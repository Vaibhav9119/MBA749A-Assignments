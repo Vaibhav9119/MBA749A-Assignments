{
 "cells": [
  {
   "cell_type": "code",
   "execution_count": 1,
   "id": "9ead67d8-61fb-4221-a650-bf8f3a94a0b0",
   "metadata": {},
   "outputs": [],
   "source": [
    "import pandas as pd\n",
    "import numpy as np\n",
    "\n",
    "import matplotlib as mpl\n",
    "import matplotlib.pyplot as plt"
   ]
  },
  {
   "cell_type": "code",
   "execution_count": 2,
   "id": "7bccc239-bc33-427c-ac99-c9d7d4058251",
   "metadata": {},
   "outputs": [],
   "source": [
    "mpl.style.use('ggplot')"
   ]
  },
  {
   "cell_type": "code",
   "execution_count": 3,
   "id": "6e3a3a9a-4a46-4c8c-bfbd-028f55dfcf03",
   "metadata": {},
   "outputs": [
    {
     "data": {
      "text/html": [
       "<div>\n",
       "<style scoped>\n",
       "    .dataframe tbody tr th:only-of-type {\n",
       "        vertical-align: middle;\n",
       "    }\n",
       "\n",
       "    .dataframe tbody tr th {\n",
       "        vertical-align: top;\n",
       "    }\n",
       "\n",
       "    .dataframe thead th {\n",
       "        text-align: right;\n",
       "    }\n",
       "</style>\n",
       "<table border=\"1\" class=\"dataframe\">\n",
       "  <thead>\n",
       "    <tr style=\"text-align: right;\">\n",
       "      <th></th>\n",
       "      <th>SURNAME</th>\n",
       "      <th>RANK</th>\n",
       "      <th>FREQUENCY</th>\n",
       "      <th>Unnamed: 3</th>\n",
       "      <th>Unnamed: 4</th>\n",
       "      <th>Unnamed: 5</th>\n",
       "      <th>Unnamed: 6</th>\n",
       "    </tr>\n",
       "  </thead>\n",
       "  <tbody>\n",
       "    <tr>\n",
       "      <th>0</th>\n",
       "      <td>SMITH</td>\n",
       "      <td>1</td>\n",
       "      <td>24,42,977</td>\n",
       "      <td>NaN</td>\n",
       "      <td>NaN</td>\n",
       "      <td>NaN</td>\n",
       "      <td>NaN</td>\n",
       "    </tr>\n",
       "    <tr>\n",
       "      <th>1</th>\n",
       "      <td>JOHNSON</td>\n",
       "      <td>2</td>\n",
       "      <td>19,32,812</td>\n",
       "      <td>NaN</td>\n",
       "      <td>NaN</td>\n",
       "      <td>NaN</td>\n",
       "      <td>NaN</td>\n",
       "    </tr>\n",
       "    <tr>\n",
       "      <th>2</th>\n",
       "      <td>WILLIAMS</td>\n",
       "      <td>3</td>\n",
       "      <td>16,25,252</td>\n",
       "      <td>NaN</td>\n",
       "      <td>NaN</td>\n",
       "      <td>NaN</td>\n",
       "      <td>NaN</td>\n",
       "    </tr>\n",
       "    <tr>\n",
       "      <th>3</th>\n",
       "      <td>BROWN</td>\n",
       "      <td>4</td>\n",
       "      <td>14,37,026</td>\n",
       "      <td>NaN</td>\n",
       "      <td>NaN</td>\n",
       "      <td>NaN</td>\n",
       "      <td>NaN</td>\n",
       "    </tr>\n",
       "    <tr>\n",
       "      <th>4</th>\n",
       "      <td>JONES</td>\n",
       "      <td>5</td>\n",
       "      <td>14,25,470</td>\n",
       "      <td>NaN</td>\n",
       "      <td>NaN</td>\n",
       "      <td>NaN</td>\n",
       "      <td>NaN</td>\n",
       "    </tr>\n",
       "  </tbody>\n",
       "</table>\n",
       "</div>"
      ],
      "text/plain": [
       "    SURNAME RANK  FREQUENCY  Unnamed: 3  Unnamed: 4  Unnamed: 5  Unnamed: 6\n",
       "0     SMITH    1  24,42,977         NaN         NaN         NaN         NaN\n",
       "1   JOHNSON    2  19,32,812         NaN         NaN         NaN         NaN\n",
       "2  WILLIAMS    3  16,25,252         NaN         NaN         NaN         NaN\n",
       "3     BROWN    4  14,37,026         NaN         NaN         NaN         NaN\n",
       "4     JONES    5  14,25,470         NaN         NaN         NaN         NaN"
      ]
     },
     "execution_count": 3,
     "metadata": {},
     "output_type": "execute_result"
    }
   ],
   "source": [
    "df = pd.read_csv('1630500298_Names_2010Census_Top1000.csv')\n",
    "df.head()"
   ]
  },
  {
   "cell_type": "code",
   "execution_count": 4,
   "id": "a9aef775-890d-4a4c-96bb-55c3bc7dddb6",
   "metadata": {},
   "outputs": [
    {
     "data": {
      "text/html": [
       "<div>\n",
       "<style scoped>\n",
       "    .dataframe tbody tr th:only-of-type {\n",
       "        vertical-align: middle;\n",
       "    }\n",
       "\n",
       "    .dataframe tbody tr th {\n",
       "        vertical-align: top;\n",
       "    }\n",
       "\n",
       "    .dataframe thead th {\n",
       "        text-align: right;\n",
       "    }\n",
       "</style>\n",
       "<table border=\"1\" class=\"dataframe\">\n",
       "  <thead>\n",
       "    <tr style=\"text-align: right;\">\n",
       "      <th></th>\n",
       "      <th>SURNAME</th>\n",
       "      <th>RANK</th>\n",
       "      <th>FREQUENCY</th>\n",
       "    </tr>\n",
       "  </thead>\n",
       "  <tbody>\n",
       "    <tr>\n",
       "      <th>0</th>\n",
       "      <td>SMITH</td>\n",
       "      <td>1</td>\n",
       "      <td>24,42,977</td>\n",
       "    </tr>\n",
       "    <tr>\n",
       "      <th>1</th>\n",
       "      <td>JOHNSON</td>\n",
       "      <td>2</td>\n",
       "      <td>19,32,812</td>\n",
       "    </tr>\n",
       "    <tr>\n",
       "      <th>2</th>\n",
       "      <td>WILLIAMS</td>\n",
       "      <td>3</td>\n",
       "      <td>16,25,252</td>\n",
       "    </tr>\n",
       "    <tr>\n",
       "      <th>3</th>\n",
       "      <td>BROWN</td>\n",
       "      <td>4</td>\n",
       "      <td>14,37,026</td>\n",
       "    </tr>\n",
       "    <tr>\n",
       "      <th>4</th>\n",
       "      <td>JONES</td>\n",
       "      <td>5</td>\n",
       "      <td>14,25,470</td>\n",
       "    </tr>\n",
       "  </tbody>\n",
       "</table>\n",
       "</div>"
      ],
      "text/plain": [
       "    SURNAME RANK  FREQUENCY\n",
       "0     SMITH    1  24,42,977\n",
       "1   JOHNSON    2  19,32,812\n",
       "2  WILLIAMS    3  16,25,252\n",
       "3     BROWN    4  14,37,026\n",
       "4     JONES    5  14,25,470"
      ]
     },
     "execution_count": 4,
     "metadata": {},
     "output_type": "execute_result"
    }
   ],
   "source": [
    "# excluding empty columns\n",
    "df = df.iloc[:,:3]\n",
    "df.head()"
   ]
  },
  {
   "cell_type": "code",
   "execution_count": 5,
   "id": "8b233d11-b1ca-402f-a7be-ae5fc2f50189",
   "metadata": {},
   "outputs": [
    {
     "data": {
      "text/plain": [
       "SURNAME      object\n",
       "RANK         object\n",
       "FREQUENCY    object\n",
       "dtype: object"
      ]
     },
     "execution_count": 5,
     "metadata": {},
     "output_type": "execute_result"
    }
   ],
   "source": [
    "df.dtypes"
   ]
  },
  {
   "cell_type": "code",
   "execution_count": 6,
   "id": "ed3a511d-cc43-4467-9cfc-4b508b5ed74c",
   "metadata": {},
   "outputs": [],
   "source": [
    "def obj_to_int(col):\n",
    "    for i in range(len(col)):\n",
    "        col[i] = col[i].replace(',', '')\n",
    "    \n",
    "    return col"
   ]
  },
  {
   "cell_type": "code",
   "execution_count": 7,
   "id": "30cd813b-0360-492f-8aa8-b1f731dbd450",
   "metadata": {},
   "outputs": [
    {
     "name": "stderr",
     "output_type": "stream",
     "text": [
      "<ipython-input-6-bf14d04619bd>:3: SettingWithCopyWarning: \n",
      "A value is trying to be set on a copy of a slice from a DataFrame\n",
      "\n",
      "See the caveats in the documentation: https://pandas.pydata.org/pandas-docs/stable/user_guide/indexing.html#returning-a-view-versus-a-copy\n",
      "  col[i] = col[i].replace(',', '')\n"
     ]
    },
    {
     "data": {
      "text/plain": [
       "SURNAME      object\n",
       "RANK          int64\n",
       "FREQUENCY     int64\n",
       "dtype: object"
      ]
     },
     "execution_count": 7,
     "metadata": {},
     "output_type": "execute_result"
    }
   ],
   "source": [
    "df['RANK'] = obj_to_int(df['RANK']).astype('int')\n",
    "df['FREQUENCY'] = obj_to_int(df['FREQUENCY']).astype('int')\n",
    "df.dtypes"
   ]
  },
  {
   "cell_type": "code",
   "execution_count": 8,
   "id": "63c609a2-59ca-4e4a-84ea-5d081087c2c6",
   "metadata": {},
   "outputs": [
    {
     "data": {
      "text/html": [
       "<div>\n",
       "<style scoped>\n",
       "    .dataframe tbody tr th:only-of-type {\n",
       "        vertical-align: middle;\n",
       "    }\n",
       "\n",
       "    .dataframe tbody tr th {\n",
       "        vertical-align: top;\n",
       "    }\n",
       "\n",
       "    .dataframe thead th {\n",
       "        text-align: right;\n",
       "    }\n",
       "</style>\n",
       "<table border=\"1\" class=\"dataframe\">\n",
       "  <thead>\n",
       "    <tr style=\"text-align: right;\">\n",
       "      <th></th>\n",
       "      <th>SURNAME</th>\n",
       "      <th>RANK</th>\n",
       "      <th>FREQUENCY</th>\n",
       "    </tr>\n",
       "  </thead>\n",
       "  <tbody>\n",
       "    <tr>\n",
       "      <th>0</th>\n",
       "      <td>SMITH</td>\n",
       "      <td>1</td>\n",
       "      <td>2442977</td>\n",
       "    </tr>\n",
       "    <tr>\n",
       "      <th>1</th>\n",
       "      <td>JOHNSON</td>\n",
       "      <td>2</td>\n",
       "      <td>1932812</td>\n",
       "    </tr>\n",
       "    <tr>\n",
       "      <th>2</th>\n",
       "      <td>WILLIAMS</td>\n",
       "      <td>3</td>\n",
       "      <td>1625252</td>\n",
       "    </tr>\n",
       "    <tr>\n",
       "      <th>3</th>\n",
       "      <td>BROWN</td>\n",
       "      <td>4</td>\n",
       "      <td>1437026</td>\n",
       "    </tr>\n",
       "    <tr>\n",
       "      <th>4</th>\n",
       "      <td>JONES</td>\n",
       "      <td>5</td>\n",
       "      <td>1425470</td>\n",
       "    </tr>\n",
       "  </tbody>\n",
       "</table>\n",
       "</div>"
      ],
      "text/plain": [
       "    SURNAME  RANK  FREQUENCY\n",
       "0     SMITH     1    2442977\n",
       "1   JOHNSON     2    1932812\n",
       "2  WILLIAMS     3    1625252\n",
       "3     BROWN     4    1437026\n",
       "4     JONES     5    1425470"
      ]
     },
     "execution_count": 8,
     "metadata": {},
     "output_type": "execute_result"
    }
   ],
   "source": [
    "df.head()"
   ]
  },
  {
   "cell_type": "code",
   "execution_count": 9,
   "id": "566b3681-72b6-42d3-949a-db6192225c67",
   "metadata": {},
   "outputs": [
    {
     "data": {
      "text/plain": [
       "SURNAME      object\n",
       "RANK          int64\n",
       "FREQUENCY     int64\n",
       "dtype: object"
      ]
     },
     "execution_count": 9,
     "metadata": {},
     "output_type": "execute_result"
    }
   ],
   "source": [
    "df.dtypes"
   ]
  },
  {
   "cell_type": "code",
   "execution_count": 10,
   "id": "73552b71-8dd2-44db-81f5-7adcd0407550",
   "metadata": {},
   "outputs": [
    {
     "name": "stdout",
     "output_type": "stream",
     "text": [
      "Total Freq: 120848141\n"
     ]
    },
    {
     "data": {
      "text/html": [
       "<div>\n",
       "<style scoped>\n",
       "    .dataframe tbody tr th:only-of-type {\n",
       "        vertical-align: middle;\n",
       "    }\n",
       "\n",
       "    .dataframe tbody tr th {\n",
       "        vertical-align: top;\n",
       "    }\n",
       "\n",
       "    .dataframe thead th {\n",
       "        text-align: right;\n",
       "    }\n",
       "</style>\n",
       "<table border=\"1\" class=\"dataframe\">\n",
       "  <thead>\n",
       "    <tr style=\"text-align: right;\">\n",
       "      <th></th>\n",
       "      <th>SURNAME</th>\n",
       "      <th>RANK</th>\n",
       "      <th>FREQUENCY</th>\n",
       "      <th>FREQUENCY_RATIO</th>\n",
       "    </tr>\n",
       "  </thead>\n",
       "  <tbody>\n",
       "    <tr>\n",
       "      <th>0</th>\n",
       "      <td>SMITH</td>\n",
       "      <td>1</td>\n",
       "      <td>2442977</td>\n",
       "      <td>0.020215</td>\n",
       "    </tr>\n",
       "    <tr>\n",
       "      <th>1</th>\n",
       "      <td>JOHNSON</td>\n",
       "      <td>2</td>\n",
       "      <td>1932812</td>\n",
       "      <td>0.015994</td>\n",
       "    </tr>\n",
       "    <tr>\n",
       "      <th>2</th>\n",
       "      <td>WILLIAMS</td>\n",
       "      <td>3</td>\n",
       "      <td>1625252</td>\n",
       "      <td>0.013449</td>\n",
       "    </tr>\n",
       "    <tr>\n",
       "      <th>3</th>\n",
       "      <td>BROWN</td>\n",
       "      <td>4</td>\n",
       "      <td>1437026</td>\n",
       "      <td>0.011891</td>\n",
       "    </tr>\n",
       "    <tr>\n",
       "      <th>4</th>\n",
       "      <td>JONES</td>\n",
       "      <td>5</td>\n",
       "      <td>1425470</td>\n",
       "      <td>0.011796</td>\n",
       "    </tr>\n",
       "  </tbody>\n",
       "</table>\n",
       "</div>"
      ],
      "text/plain": [
       "    SURNAME  RANK  FREQUENCY  FREQUENCY_RATIO\n",
       "0     SMITH     1    2442977         0.020215\n",
       "1   JOHNSON     2    1932812         0.015994\n",
       "2  WILLIAMS     3    1625252         0.013449\n",
       "3     BROWN     4    1437026         0.011891\n",
       "4     JONES     5    1425470         0.011796"
      ]
     },
     "execution_count": 10,
     "metadata": {},
     "output_type": "execute_result"
    }
   ],
   "source": [
    "# add column containing fraction of Freq\n",
    "Total_Freq = df['FREQUENCY'].sum()\n",
    "print(\"Total Freq: {}\".format(Total_Freq))\n",
    "\n",
    "df['FREQUENCY_RATIO'] = df['FREQUENCY']/Total_Freq\n",
    "df.head()"
   ]
  },
  {
   "cell_type": "code",
   "execution_count": 11,
   "id": "34d2a9ae-dbe9-4242-8d09-c90f6b93cbab",
   "metadata": {},
   "outputs": [
    {
     "data": {
      "text/html": [
       "<div>\n",
       "<style scoped>\n",
       "    .dataframe tbody tr th:only-of-type {\n",
       "        vertical-align: middle;\n",
       "    }\n",
       "\n",
       "    .dataframe tbody tr th {\n",
       "        vertical-align: top;\n",
       "    }\n",
       "\n",
       "    .dataframe thead th {\n",
       "        text-align: right;\n",
       "    }\n",
       "</style>\n",
       "<table border=\"1\" class=\"dataframe\">\n",
       "  <thead>\n",
       "    <tr style=\"text-align: right;\">\n",
       "      <th></th>\n",
       "      <th>SURNAME</th>\n",
       "      <th>RANK</th>\n",
       "      <th>FREQUENCY</th>\n",
       "      <th>FREQUENCY_RATIO</th>\n",
       "      <th>LOG_RANK</th>\n",
       "      <th>LOG_FREQUENCY_RATIO</th>\n",
       "    </tr>\n",
       "  </thead>\n",
       "  <tbody>\n",
       "    <tr>\n",
       "      <th>0</th>\n",
       "      <td>SMITH</td>\n",
       "      <td>1</td>\n",
       "      <td>2442977</td>\n",
       "      <td>0.020215</td>\n",
       "      <td>0.000000</td>\n",
       "      <td>-3.901317</td>\n",
       "    </tr>\n",
       "    <tr>\n",
       "      <th>1</th>\n",
       "      <td>JOHNSON</td>\n",
       "      <td>2</td>\n",
       "      <td>1932812</td>\n",
       "      <td>0.015994</td>\n",
       "      <td>0.693147</td>\n",
       "      <td>-4.135559</td>\n",
       "    </tr>\n",
       "    <tr>\n",
       "      <th>2</th>\n",
       "      <td>WILLIAMS</td>\n",
       "      <td>3</td>\n",
       "      <td>1625252</td>\n",
       "      <td>0.013449</td>\n",
       "      <td>1.098612</td>\n",
       "      <td>-4.308872</td>\n",
       "    </tr>\n",
       "    <tr>\n",
       "      <th>3</th>\n",
       "      <td>BROWN</td>\n",
       "      <td>4</td>\n",
       "      <td>1437026</td>\n",
       "      <td>0.011891</td>\n",
       "      <td>1.386294</td>\n",
       "      <td>-4.431959</td>\n",
       "    </tr>\n",
       "    <tr>\n",
       "      <th>4</th>\n",
       "      <td>JONES</td>\n",
       "      <td>5</td>\n",
       "      <td>1425470</td>\n",
       "      <td>0.011796</td>\n",
       "      <td>1.609438</td>\n",
       "      <td>-4.440033</td>\n",
       "    </tr>\n",
       "  </tbody>\n",
       "</table>\n",
       "</div>"
      ],
      "text/plain": [
       "    SURNAME  RANK  FREQUENCY  FREQUENCY_RATIO  LOG_RANK  LOG_FREQUENCY_RATIO\n",
       "0     SMITH     1    2442977         0.020215  0.000000            -3.901317\n",
       "1   JOHNSON     2    1932812         0.015994  0.693147            -4.135559\n",
       "2  WILLIAMS     3    1625252         0.013449  1.098612            -4.308872\n",
       "3     BROWN     4    1437026         0.011891  1.386294            -4.431959\n",
       "4     JONES     5    1425470         0.011796  1.609438            -4.440033"
      ]
     },
     "execution_count": 11,
     "metadata": {},
     "output_type": "execute_result"
    }
   ],
   "source": [
    "# Now add columns containign logarithmic values of RANK and frequency ratio\n",
    "df['LOG_RANK'] = np.log(df['RANK'])\n",
    "df['LOG_FREQUENCY_RATIO'] = np.log(df['FREQUENCY_RATIO'])\n",
    "\n",
    "df.head()"
   ]
  },
  {
   "cell_type": "code",
   "execution_count": 12,
   "id": "e2dc3a3b-ecd3-4ca4-9b7b-da6dd38276f8",
   "metadata": {},
   "outputs": [
    {
     "data": {
      "text/plain": [
       "SURNAME                 object\n",
       "RANK                     int64\n",
       "FREQUENCY                int64\n",
       "FREQUENCY_RATIO        float64\n",
       "LOG_RANK               float64\n",
       "LOG_FREQUENCY_RATIO    float64\n",
       "dtype: object"
      ]
     },
     "execution_count": 12,
     "metadata": {},
     "output_type": "execute_result"
    }
   ],
   "source": [
    "df.dtypes"
   ]
  },
  {
   "cell_type": "code",
   "execution_count": 13,
   "id": "fafecdf0-f379-4b50-8524-c27904053777",
   "metadata": {},
   "outputs": [
    {
     "data": {
      "image/png": "[encoded data removed]",
      "text/plain": [
       "<Figure size 432x288 with 1 Axes>"
      ]
     },
     "metadata": {},
     "output_type": "display_data"
    }
   ],
   "source": [
    "# Freq_ration Vs Rank\n",
    "plt.scatter(df.RANK, df.FREQUENCY_RATIO)\n",
    "plt.title(\"Frequency_ratio Vs Rank\")\n",
    "plt.show()"
   ]
  },
  {
   "cell_type": "code",
   "execution_count": 14,
   "id": "9c5ed630-ef21-4eda-a3a0-c11e3f8bf895",
   "metadata": {},
   "outputs": [
    {
     "data": {
      "image/png": "[encoded data removed]",
      "text/plain": [
       "<Figure size 432x288 with 1 Axes>"
      ]
     },
     "metadata": {},
     "output_type": "display_data"
    }
   ],
   "source": [
    "# loglog plot of Freq_ration vs RANK\n",
    "plt.scatter(df.LOG_RANK, df.LOG_FREQUENCY_RATIO)\n",
    "plt.title('log(Frequency_ratio) Vs log(Rank)')\n",
    "plt.xlabel('Log of Rank')\n",
    "plt.ylabel('Log of (Freq/Total Freq)')\n",
    "plt.show()"
   ]
  },
  {
   "cell_type": "code",
   "execution_count": 15,
   "id": "9574f2bb-eeac-41c5-80a6-50c1aad2a5ba",
   "metadata": {},
   "outputs": [
    {
     "name": "stdout",
     "output_type": "stream",
     "text": [
      "Exponent: -0.7500908006056741\n",
      "Intercept: 0.056816532918768176\n"
     ]
    }
   ],
   "source": [
    "# Our equation is log(Freq_fraction) = b*log(RANK) + log(a)\n",
    "# first lets split the data \n",
    "mask = np.random.rand(len(df)) < 0.8\n",
    "train = df[mask]\n",
    "test = df[~mask]\n",
    "\n",
    "# Now train the linear regression model to fit this data.\n",
    "from sklearn import linear_model\n",
    "\n",
    "reg = linear_model.LinearRegression()\n",
    "train_rank = np.asanyarray(train[['LOG_RANK']])\n",
    "train_freq = np.asanyarray(train[['LOG_FREQUENCY_RATIO']])\n",
    "\n",
    "reg.fit(train_rank, train_freq)\n",
    "\n",
    "# to get the value of Intercept we need to take exponent of intercept obtained using regression \n",
    "# as we have taken natural logs on both sides\n",
    "Exponent = reg.coef_[0][0]\n",
    "Intercept = np.exp(reg.intercept_[0])\n",
    "\n",
    "print(\"Exponent: {}\\nIntercept: {}\".format(Exponent, Intercept))"
   ]
  },
  {
   "cell_type": "code",
   "execution_count": 16,
   "id": "4ee6b3a7-12ee-4546-b5d3-dac8688863fd",
   "metadata": {},
   "outputs": [
    {
     "data": {
      "text/plain": [
       "array([-2.86792792])"
      ]
     },
     "execution_count": 16,
     "metadata": {},
     "output_type": "execute_result"
    }
   ],
   "source": [
    "reg.intercept_"
   ]
  },
  {
   "cell_type": "code",
   "execution_count": 17,
   "id": "0af7d2fa-541b-4782-b5a2-7028dd09ed3e",
   "metadata": {},
   "outputs": [
    {
     "data": {
      "image/png": "[encoded data removed]",
      "text/plain": [
       "<Figure size 576x432 with 1 Axes>"
      ]
     },
     "metadata": {},
     "output_type": "display_data"
    }
   ],
   "source": [
    "# Visualizing out fitted line\n",
    "fig = plt.figure(figsize=(8,6))\n",
    "plt.scatter(train.LOG_RANK, train.LOG_FREQUENCY_RATIO, color='steelblue')\n",
    "plt.plot(train.LOG_RANK, reg.coef_[0][0]*train.LOG_RANK + reg.intercept_[0], '-r')\n",
    "plt.title(\"Log-Log graph with fitted line\")\n",
    "plt.xlabel('log(rank)')\n",
    "plt.ylabel('log(frequency-ratio)')\n",
    "plt.show()"
   ]
  },
  {
   "cell_type": "code",
   "execution_count": 18,
   "id": "5d4910fe-5b69-4a2e-81e8-117217cf11d6",
   "metadata": {},
   "outputs": [
    {
     "data": {
      "image/png": "[encoded data removed]",
      "text/plain": [
       "<Figure size 576x432 with 1 Axes>"
      ]
     },
     "metadata": {},
     "output_type": "display_data"
    }
   ],
   "source": [
    "# Now plot the fitted graph on power-law distribution\n",
    "# before that get a and b\n",
    "a = np.exp(reg.intercept_[0])\n",
    "\n",
    "fig = plt.figure(figsize=(8,6))\n",
    "plt.scatter(train.RANK, train.FREQUENCY_RATIO, color='blue')\n",
    "plt.plot(train.RANK, a*(train.RANK**reg.coef_[0][0]), '-r')\n",
    "\n",
    "plt.show()"
   ]
  },
  {
   "cell_type": "code",
   "execution_count": 19,
   "id": "e5c376a0-dd00-49a3-89e0-ca1d983ade7a",
   "metadata": {},
   "outputs": [
    {
     "data": {
      "text/html": [
       "<div>\n",
       "<style scoped>\n",
       "    .dataframe tbody tr th:only-of-type {\n",
       "        vertical-align: middle;\n",
       "    }\n",
       "\n",
       "    .dataframe tbody tr th {\n",
       "        vertical-align: top;\n",
       "    }\n",
       "\n",
       "    .dataframe thead th {\n",
       "        text-align: right;\n",
       "    }\n",
       "</style>\n",
       "<table border=\"1\" class=\"dataframe\">\n",
       "  <thead>\n",
       "    <tr style=\"text-align: right;\">\n",
       "      <th></th>\n",
       "      <th>SURNAME</th>\n",
       "      <th>RANK</th>\n",
       "      <th>FREQUENCY</th>\n",
       "      <th>FREQUENCY_RATIO</th>\n",
       "      <th>LOG_RANK</th>\n",
       "      <th>LOG_FREQUENCY_RATIO</th>\n",
       "    </tr>\n",
       "  </thead>\n",
       "  <tbody>\n",
       "    <tr>\n",
       "      <th>0</th>\n",
       "      <td>SMITH</td>\n",
       "      <td>1</td>\n",
       "      <td>2442977</td>\n",
       "      <td>0.020215</td>\n",
       "      <td>0.000000</td>\n",
       "      <td>-3.901317</td>\n",
       "    </tr>\n",
       "    <tr>\n",
       "      <th>1</th>\n",
       "      <td>JOHNSON</td>\n",
       "      <td>2</td>\n",
       "      <td>1932812</td>\n",
       "      <td>0.015994</td>\n",
       "      <td>0.693147</td>\n",
       "      <td>-4.135559</td>\n",
       "    </tr>\n",
       "    <tr>\n",
       "      <th>3</th>\n",
       "      <td>BROWN</td>\n",
       "      <td>4</td>\n",
       "      <td>1437026</td>\n",
       "      <td>0.011891</td>\n",
       "      <td>1.386294</td>\n",
       "      <td>-4.431959</td>\n",
       "    </tr>\n",
       "    <tr>\n",
       "      <th>4</th>\n",
       "      <td>JONES</td>\n",
       "      <td>5</td>\n",
       "      <td>1425470</td>\n",
       "      <td>0.011796</td>\n",
       "      <td>1.609438</td>\n",
       "      <td>-4.440033</td>\n",
       "    </tr>\n",
       "    <tr>\n",
       "      <th>5</th>\n",
       "      <td>GARCIA</td>\n",
       "      <td>6</td>\n",
       "      <td>1166120</td>\n",
       "      <td>0.009649</td>\n",
       "      <td>1.791759</td>\n",
       "      <td>-4.640853</td>\n",
       "    </tr>\n",
       "  </tbody>\n",
       "</table>\n",
       "</div>"
      ],
      "text/plain": [
       "   SURNAME  RANK  FREQUENCY  FREQUENCY_RATIO  LOG_RANK  LOG_FREQUENCY_RATIO\n",
       "0    SMITH     1    2442977         0.020215  0.000000            -3.901317\n",
       "1  JOHNSON     2    1932812         0.015994  0.693147            -4.135559\n",
       "3    BROWN     4    1437026         0.011891  1.386294            -4.431959\n",
       "4    JONES     5    1425470         0.011796  1.609438            -4.440033\n",
       "5   GARCIA     6    1166120         0.009649  1.791759            -4.640853"
      ]
     },
     "execution_count": 19,
     "metadata": {},
     "output_type": "execute_result"
    }
   ],
   "source": [
    "train.head()"
   ]
  },
  {
   "cell_type": "code",
   "execution_count": 20,
   "id": "0751c1ca-4682-4756-a9e5-cf6aae746537",
   "metadata": {},
   "outputs": [
    {
     "name": "stderr",
     "output_type": "stream",
     "text": [
      "<ipython-input-20-d9a60c08f9db>:3: SettingWithCopyWarning: \n",
      "A value is trying to be set on a copy of a slice from a DataFrame.\n",
      "Try using .loc[row_indexer,col_indexer] = value instead\n",
      "\n",
      "See the caveats in the documentation: https://pandas.pydata.org/pandas-docs/stable/user_guide/indexing.html#returning-a-view-versus-a-copy\n",
      "  train['FREQUENCY_RATIO_HAT'] = a*(train.RANK**reg.coef_[0][0])\n"
     ]
    },
    {
     "data": {
      "text/html": [
       "<div>\n",
       "<style scoped>\n",
       "    .dataframe tbody tr th:only-of-type {\n",
       "        vertical-align: middle;\n",
       "    }\n",
       "\n",
       "    .dataframe tbody tr th {\n",
       "        vertical-align: top;\n",
       "    }\n",
       "\n",
       "    .dataframe thead th {\n",
       "        text-align: right;\n",
       "    }\n",
       "</style>\n",
       "<table border=\"1\" class=\"dataframe\">\n",
       "  <thead>\n",
       "    <tr style=\"text-align: right;\">\n",
       "      <th></th>\n",
       "      <th>SURNAME</th>\n",
       "      <th>RANK</th>\n",
       "      <th>FREQUENCY</th>\n",
       "      <th>FREQUENCY_RATIO</th>\n",
       "      <th>LOG_RANK</th>\n",
       "      <th>LOG_FREQUENCY_RATIO</th>\n",
       "      <th>FREQUENCY_RATIO_HAT</th>\n",
       "    </tr>\n",
       "  </thead>\n",
       "  <tbody>\n",
       "    <tr>\n",
       "      <th>0</th>\n",
       "      <td>SMITH</td>\n",
       "      <td>1</td>\n",
       "      <td>2442977</td>\n",
       "      <td>0.020215</td>\n",
       "      <td>0.000000</td>\n",
       "      <td>-3.901317</td>\n",
       "      <td>0.056817</td>\n",
       "    </tr>\n",
       "    <tr>\n",
       "      <th>1</th>\n",
       "      <td>JOHNSON</td>\n",
       "      <td>2</td>\n",
       "      <td>1932812</td>\n",
       "      <td>0.015994</td>\n",
       "      <td>0.693147</td>\n",
       "      <td>-4.135559</td>\n",
       "      <td>0.033781</td>\n",
       "    </tr>\n",
       "    <tr>\n",
       "      <th>3</th>\n",
       "      <td>BROWN</td>\n",
       "      <td>4</td>\n",
       "      <td>1437026</td>\n",
       "      <td>0.011891</td>\n",
       "      <td>1.386294</td>\n",
       "      <td>-4.431959</td>\n",
       "      <td>0.020085</td>\n",
       "    </tr>\n",
       "    <tr>\n",
       "      <th>4</th>\n",
       "      <td>JONES</td>\n",
       "      <td>5</td>\n",
       "      <td>1425470</td>\n",
       "      <td>0.011796</td>\n",
       "      <td>1.609438</td>\n",
       "      <td>-4.440033</td>\n",
       "      <td>0.016990</td>\n",
       "    </tr>\n",
       "    <tr>\n",
       "      <th>5</th>\n",
       "      <td>GARCIA</td>\n",
       "      <td>6</td>\n",
       "      <td>1166120</td>\n",
       "      <td>0.009649</td>\n",
       "      <td>1.791759</td>\n",
       "      <td>-4.640853</td>\n",
       "      <td>0.014818</td>\n",
       "    </tr>\n",
       "  </tbody>\n",
       "</table>\n",
       "</div>"
      ],
      "text/plain": [
       "   SURNAME  RANK  FREQUENCY  FREQUENCY_RATIO  LOG_RANK  LOG_FREQUENCY_RATIO  \\\n",
       "0    SMITH     1    2442977         0.020215  0.000000            -3.901317   \n",
       "1  JOHNSON     2    1932812         0.015994  0.693147            -4.135559   \n",
       "3    BROWN     4    1437026         0.011891  1.386294            -4.431959   \n",
       "4    JONES     5    1425470         0.011796  1.609438            -4.440033   \n",
       "5   GARCIA     6    1166120         0.009649  1.791759            -4.640853   \n",
       "\n",
       "   FREQUENCY_RATIO_HAT  \n",
       "0             0.056817  \n",
       "1             0.033781  \n",
       "3             0.020085  \n",
       "4             0.016990  \n",
       "5             0.014818  "
      ]
     },
     "execution_count": 20,
     "metadata": {},
     "output_type": "execute_result"
    }
   ],
   "source": [
    "# Now add column to train with predicted freq_fraction\n",
    "\n",
    "train['FREQUENCY_RATIO_HAT'] = a*(train.RANK**reg.coef_[0][0])\n",
    "train.head()"
   ]
  },
  {
   "cell_type": "markdown",
   "id": "ebaab4ef-47df-4970-b9cf-8c041d22ef9e",
   "metadata": {},
   "source": [
    "### ``Evaluation``"
   ]
  },
  {
   "cell_type": "code",
   "execution_count": 21,
   "id": "bbda7af4-016f-45c1-a126-ea54653dca00",
   "metadata": {},
   "outputs": [
    {
     "name": "stdout",
     "output_type": "stream",
     "text": [
      "Mean absolute error: 0.05\n",
      "Residual sum of squares (MSE): 0.01\n",
      "R2-score: 0.99\n"
     ]
    }
   ],
   "source": [
    "from sklearn.metrics import r2_score\n",
    "\n",
    "test_rank = np.asanyarray(test[['LOG_RANK']])\n",
    "test_freq = np.asanyarray(test[['LOG_FREQUENCY_RATIO']])\n",
    "\n",
    "test_freq_predicted = reg.predict(test_rank)\n",
    "\n",
    "# We'll compare our test results using three metrices, as follows:\n",
    "\n",
    "print(\"Mean absolute error: %.2f\" % np.mean(np.absolute(test_freq_predicted - test_freq)))    # Mean absolute Error\n",
    "print(\"Residual sum of squares (MSE): %.2f\" % np.mean((test_freq_predicted - test_freq) ** 2))    # Mean squared Error\n",
    "print(\"R2-score: %.2f\" % r2_score(test_freq , test_freq_predicted))    # Root mean squared error"
   ]
  },
  {
   "cell_type": "code",
   "execution_count": null,
   "id": "12bb4a27-0f7c-4822-a3fc-7c80a3933390",
   "metadata": {},
   "outputs": [],
   "source": []
  }
 ],
 "metadata": {
  "kernelspec": {
   "display_name": "Python 3",
   "language": "python",
   "name": "python3"
  },
  "language_info": {
   "codemirror_mode": {
    "name": "ipython",
    "version": 3
   },
   "file_extension": ".py",
   "mimetype": "text/x-python",
   "name": "python",
   "nbconvert_exporter": "python",
   "pygments_lexer": "ipython3",
   "version": "3.8.8"
  }
 },
 "nbformat": 4,
 "nbformat_minor": 5
}
